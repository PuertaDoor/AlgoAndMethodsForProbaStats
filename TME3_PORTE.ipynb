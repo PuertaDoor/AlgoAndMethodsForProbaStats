{
 "cells": [
  {
   "cell_type": "markdown",
   "metadata": {},
   "source": [
    "# Apprentissage de paramètres par maximum de vraisemblance\n",
    "Dans ce TME, l'objectif est d'apprendre grâce à l'estimateur de maximum de vraisemblance les paramètres de lois normales à partir d'un ensemble de données. Ces lois normales seront ensuite exploitées pour faire de la classification (comme nous l'avions vu en cours avec les images de désert, forêt, mer et paysages enneigés).\n",
    "\n",
    "Ici, notre base de données d'apprentissage est la base USPS. Celle-ci contient les images réelles de chiffres provenant de codes postaux écrits manuellement et scannés par le service des postes américain. Ces données scannées ont été normalisées de manière à ce qu'elles soient toutes des images de 16x16 pixels en teintes de gris, cf. Le Cun et al., 1990:\n",
    "\n",
    "Y. LeCun, O. Matan, B. Boser, J. S. Denker, et al. (1990) *Handwritten zip code recognition with multilayer networks*. In ICPR, volume II, pages 35–40.\n",
    "\n",
    "Voici quelques exemples d'images de cette base : \n",
    "\n",
    "<img src=\"usps.png\" title=\"Quelques exemples\">\n"
   ]
  },
  {
   "cell_type": "code",
   "execution_count": 1,
   "metadata": {},
   "outputs": [],
   "source": [
    "import numpy as np\n",
    "import matplotlib.pyplot as plt\n",
    "import pickle as pkl"
   ]
  },
  {
   "cell_type": "markdown",
   "metadata": {},
   "source": [
    "## Chargement des données et premières visualisations\n",
    "\n",
    "Nous utiliserons la librairie pickle qui permet de sérialiser les objets en python (ie, les sauver et les charger très facilement).\n",
    "Une fois les données chargées, nous allons étudier très rapidement la distribution des classes, visualiser une imagette de chiffre et comprendre l'encodage de ces chiffres."
   ]
  },
  {
   "cell_type": "code",
   "execution_count": 2,
   "metadata": {},
   "outputs": [
    {
     "data": {
      "text/plain": [
       "(array([488., 412., 311., 260., 306., 244., 261., 282., 224., 281.]),\n",
       " array([-0.5,  0.5,  1.5,  2.5,  3.5,  4.5,  5.5,  6.5,  7.5,  8.5,  9.5]),\n",
       " <BarContainer object of 10 artists>)"
      ]
     },
     "execution_count": 2,
     "metadata": {},
     "output_type": "execute_result"
    },
    {
     "data": {
      "image/png": "[encoded data removed]",
      "text/plain": [
       "<Figure size 432x288 with 1 Axes>"
      ]
     },
     "metadata": {
      "needs_background": "light"
     },
     "output_type": "display_data"
    }
   ],
   "source": [
    "# Chargement des données\n",
    "data = pkl.load(open(\"usps.pkl\",'rb')) \n",
    "# data est un dictionnaire contenant les champs explicites X_train, X_test, Y_train, Y_test\n",
    "X_train = np.array(data[\"X_train\"],dtype=float) # changement de type pour éviter les problèmes d'affichage\n",
    "X_test = np.array(data[\"X_test\"],dtype=float)\n",
    "Y_train = data[\"Y_train\"]\n",
    "Y_test = data[\"Y_test\"]\n",
    "\n",
    "# visualisation de la distribution des étiquettes (dans les 10 classes de chiffres)\n",
    "plt.figure()\n",
    "plt.hist(Y_train, np.linspace(-0.5,9.5,11))\n",
    "plt.hist(Y_test, np.linspace(-0.5,9.5,11))\n",
    "#plt.savefig(\"distr_classes.png\")"
   ]
  },
  {
   "cell_type": "code",
   "execution_count": 3,
   "metadata": {},
   "outputs": [
    {
     "name": "stdout",
     "output_type": "stream",
     "text": [
      "(6229, 256)\n",
      "(3069, 256) (6229,) (3069,)\n"
     ]
    },
    {
     "data": {
      "text/plain": [
       "Text(0.5, 1.0, 'Image de : 6')"
      ]
     },
     "execution_count": 3,
     "metadata": {},
     "output_type": "execute_result"
    },
    {
     "data": {
      "image/png": "[encoded data removed]",
      "text/plain": [
       "<Figure size 432x288 with 1 Axes>"
      ]
     },
     "metadata": {
      "needs_background": "light"
     },
     "output_type": "display_data"
    }
   ],
   "source": [
    "# prise en main des matrices X, Y\n",
    "print(X_train.shape)\n",
    "# 6229 images composées de 256 pixels (image = 16x16)\n",
    "print(X_test.shape,Y_train.shape, Y_test.shape)\n",
    "\n",
    "# Affichage de l'image 18 de la base de données et récupération de l'étiquette associée:\n",
    "# (1) remise en forme de la ligne de 256 pixels en 16x16\n",
    "# (2) affichage avec imshow (en niveaux de gris)\n",
    "# (3) récupération de l'étiquette dans Y_train\n",
    "\n",
    "plt.figure()\n",
    "plt.imshow(X_train[18].reshape(16,16),cmap=\"gray\")\n",
    "plt.title(\"Image de : {}\".format(Y_train[18]))"
   ]
  },
  {
   "cell_type": "code",
   "execution_count": 4,
   "metadata": {},
   "outputs": [
    {
     "name": "stdout",
     "output_type": "stream",
     "text": [
      "0.0 2.0\n",
      "niveaux de gris :  2001\n"
     ]
    }
   ],
   "source": [
    "# analyse des valeurs min et max, recherche du nombre de niveaux de gris dans les images:\n",
    "print(X_train.min(),X_train.max() )\n",
    "print(\"niveaux de gris : \", len(np.unique(X_train))) "
   ]
  },
  {
   "cell_type": "markdown",
   "metadata": {},
   "source": [
    "# A. Apprentissage et évaluation d'un modèle gaussien naïf\n",
    "\n",
    "## A1- Maximum de vraisemblance \n",
    "\n",
    "Nous allons étudier la distribution de probabilité des teintes de gris des images (en fait, nous allons étudier sa fonction de densité car on travaille sur des variables aléatoires continues) . Nous allons faire l'hypothèse (certes un peu forte mais tellement pratique) que, dans chaque classe, les teintes des pixels sont mutuellement indépendantes. \n",
    "\n",
    "Autrement dit, si $X_i, i\\in \\{0,...,255\\}$ représente la variable aléatoire \"intensité de gris du ième pixel\", alors $p(X_0,…,X_{255})$ représente la fonction de densité des teintes de gris des images de la classe et: \n",
    "\n",
    "$$p(X_0,,…,X_{255})=\\prod_{i=0}^{255} p(X_i)$$\n",
    "\n",
    "Ainsi, en choisissant au hasard une image dans l'ensemble de toutes les images possibles de la classe, si celle-ci correspond au tableau `np.array([x_0,...,x_255])`, où les $x_i$ sont des nombres réels compris entre 0 et 2, alors la valeur de la fonction de densité de l'image est égale à $p(x_0,...,x_{255}) = \\prod^{255}_{i=0}p(x_i)$. \n",
    "\n",
    "Nous allons de plus supposer que chaque $X_i$ suit une distribution normale de paramètres $(μ_i,σ^2_i)$. Autrement dit, $$\\forall i\\in\\{0,...,255\\}, X_i \\sim {\\cal N}(μ_i,σ^2_i)$$ \n",
    "\n",
    "Par maximum de vraisemblance, estimez, pour une classe donnée, l'ensemble des paramètres $(μ_0,…,μ_{255})$ et $(σ^2_0,…,σ^2_{255})$ pour chaque classe (chiffre de 0 à 9). Pour cela, écrivez une fonction `learnML_parameters : float np.array x float np.array -> float np.array x float np.array` qui, étant donné le tableau d'images , renvoie un couple de tableaux, le premier élément du couple correspondant à l'ensemble des $μ_i$ et le 2ème à l'ensemble des $σ^2_i$. C'est-à-dire que `learnML_parameters` renverra deux matrices:\n",
    "$$ mu \\in \\mathbb R^{10 \\times 256}, sig \\in \\mathbb R^{10 \\times 256}$$\n",
    "\n",
    "* mu contient les moyennes des 256 pixels pour les 10 classes\n",
    "* std contient les écarts-types des 256 pixels pour les 10 classes\n",
    "\n"
   ]
  },
  {
   "cell_type": "code",
   "execution_count": 5,
   "metadata": {},
   "outputs": [],
   "source": [
    "def learnML_parameters(X,Y):\n",
    "    mu = np.zeros((10,256), dtype=object)\n",
    "    sig = np.zeros((10,256), dtype=object)\n",
    "    for i in range(10):\n",
    "        indices = np.where(Y==i)\n",
    "        for j in range(256):\n",
    "            stdtmp = []\n",
    "            for k in indices[0]:\n",
    "                mu[i,j] += X[k,j]\n",
    "                stdtmp.append(X[k,j])\n",
    "            mu[i,j] /= indices[0].size\n",
    "            sig[i,j] = np.std(np.array(stdtmp))\n",
    "    \n",
    "    return mu,sig;"
   ]
  },
  {
   "cell_type": "code",
   "execution_count": 6,
   "metadata": {},
   "outputs": [
    {
     "name": "stdout",
     "output_type": "stream",
     "text": [
      "(10, 256) (10, 256)\n"
     ]
    }
   ],
   "source": [
    "mu,sig = learnML_parameters ( X_train, Y_train )\n",
    "print(mu.shape, sig.shape) # doit donner (10, 256) (10, 256)"
   ]
  },
  {
   "cell_type": "markdown",
   "metadata": {},
   "source": [
    "Check: pour la classe 0, les paramètres doivent être les suivants\n",
    "```\n",
    "mu[0]=\n",
    "[1.53774208e-03 4.46785940e-03 1.71216078e-02 6.31194048e-02\n",
    " 1.84061642e-01 4.71391665e-01 8.97640989e-01 1.15019928e+00\n",
    " ...\n",
    " 1.42675380e+00 1.03130694e+00 5.32240296e-01 1.74166387e-01\n",
    " 3.57644515e-02 5.52804884e-03 4.36592998e-04 0.00000000e+00]\n",
    "sig[0]=\n",
    "[5.01596286e-02 7.93695089e-02 1.46489017e-01 2.65522337e-01\n",
    " 4.42306204e-01 6.35148001e-01 7.40462105e-01 7.48387032e-01\n",
    " ...\n",
    " 6.62741331e-01 6.75677391e-01 5.86224763e-01 3.56460503e-01\n",
    " 1.71512333e-01 5.67475697e-02 1.20193571e-02 0.00000000e+00]\n",
    "```"
   ]
  },
  {
   "cell_type": "code",
   "execution_count": 7,
   "metadata": {},
   "outputs": [
    {
     "name": "stdout",
     "output_type": "stream",
     "text": [
      "[0.0015377420774647886 0.004467859402508803 0.01712160782075264\n",
      " 0.06311940475248955 0.18406164231994343 0.4713916653198815\n",
      " 0.897640988524531 1.1501992785314998 1.020708995693726 0.6167854076260132\n",
      " 0.25076635298034955 0.08099031224497047 0.014931082389724086\n",
      " 0.0038703327447595732 0.0001708984375 0.0 0.0023560143412558686\n",
      " 0.007937625652187866 0.05185739400800965 0.2009401778100242\n",
      " 0.5594119801767555 1.1020244643162114 1.5353255921126532\n",
      " 1.663783672493948 1.6017440007885857 1.37845195358348 0.9193537680755759\n",
      " 0.4154792481185125 0.1223468583514433 0.030152705017949494\n",
      " 0.004243725342369975 5.634289951951291e-06 0.005882107372015295\n",
      " 0.030067991874587367 0.14500935424661412 0.46842829565487\n",
      " 0.9871031631326451 1.4602094471174787 1.631039052614024\n",
      " 1.5944584591287962 1.5278571196005377 1.5215570494602544\n",
      " 1.3663049921743187 0.9338827222725595 0.4294641691754122\n",
      " 0.11686592818425855 0.020265016869200226 0.001020898953290053\n",
      " 0.007912020616128411 0.06880181630452474 0.33078341058722127\n",
      " 0.8241949287378733 1.3125497486669693 1.542566047811732 1.449434459489276\n",
      " 1.2119139505663947 1.0922005550402432 1.226559490329223 1.390707422534065\n",
      " 1.2782144062955614 0.8466827446306255 0.34892559499248094\n",
      " 0.0807226924269412 0.004644397502773804 0.015953208135327263\n",
      " 0.17667544458953427 0.6077817943734183 1.1275714139983128\n",
      " 1.4652351853993018 1.4547246941938088 1.138563165978087\n",
      " 0.8103389337029255 0.6261682859608825 0.7769553976999202\n",
      " 1.107797272552347 1.3285137391426194 1.1667606255258194\n",
      " 0.6865486861394604 0.24135780334472656 0.02812895528587377\n",
      " 0.04814429126435042 0.3737520782040878 0.8814836466256442\n",
      " 1.3194991572921824 1.4670052335855546 1.2371811414548488\n",
      " 0.8169625815091558 0.4434749164491752 0.28040564183338146\n",
      " 0.4080216474936042 0.7816190316643513 1.171221132233669\n",
      " 1.2751573267117353 0.9723323526516766 0.4740292670021594\n",
      " 0.08552219587872285 0.13078314194656873 0.5939821377606459\n",
      " 1.0768630578484333 1.3989405878272974 1.3684409853438257\n",
      " 0.9742455388458682 0.5334120710131148 0.21583290726925847\n",
      " 0.10628268909006611 0.1886392611293166 0.5187316751256236\n",
      " 0.9659493191141478 1.247262485486241 1.1213259638754975\n",
      " 0.6894668579101563 0.1961545899440425 0.25067465070267797\n",
      " 0.7613153994922907 1.1969589761725055 1.3886486214651188\n",
      " 1.1997134078836218 0.748517123298466 0.33057260558079105\n",
      " 0.09847339755492591 0.04292413416043134 0.10336773026157432\n",
      " 0.38722927738243423 0.8440561975111984 1.2001288060291273\n",
      " 1.1842508575726003 0.8202226298515786 0.30867469859235164\n",
      " 0.3582616340386476 0.8621902018085892 1.2556373802149239\n",
      " 1.3467337317310029 1.0714287851897764 0.5891231402544909\n",
      " 0.19672827743028812 0.04286808318375422 0.016035182934971484\n",
      " 0.07268403281628245 0.345407531630825 0.8194576361929307\n",
      " 1.1928931178061615 1.2149673220137476 0.8849995232523887\n",
      " 0.3799067367410436 0.38733181304215264 0.9064828299580605\n",
      " 1.2903594531923392 1.3194000566509407 0.9787577687294831\n",
      " 0.47696646479933474 0.12716858733987585 0.021192313359936637\n",
      " 0.014406359139742426 0.08577324773224307 0.37664846590427165\n",
      " 0.8879292376164539 1.238952171970421 1.2503551948798095\n",
      " 0.8860752974317667 0.3579549440195863 0.32613827253171535\n",
      " 0.8935222348137081 1.3151062763912578 1.352387944969213\n",
      " 0.9614619205815131 0.43957754144086525 0.11392742837538741\n",
      " 0.03849755049871167 0.05363278456137214 0.1697872349913691\n",
      " 0.5425998168372212 1.061821973379789 1.373213994558988 1.25057056856827\n",
      " 0.8184067900751678 0.26172128775869735 0.18233046822704618\n",
      " 0.7594759506798686 1.2867920665114139 1.4495804629975082\n",
      " 1.1068896727942525 0.5572038614693942 0.21413038101554477\n",
      " 0.14706937763052927 0.21567608918382528 0.43281597352363693\n",
      " 0.8968624464223083 1.363776336813197 1.4907557769560478\n",
      " 1.1593963945415657 0.622067019861069 0.1269922202741596\n",
      " 0.05841526873234852 0.46742755012333115 1.098063398191067\n",
      " 1.5121061468348256 1.4222671383423424 0.9411977875400597\n",
      " 0.5577096652536885 0.4997199573427299 0.6560422834656048\n",
      " 1.003997660354829 1.4064782693352498 1.6126660064912177 1.416566140439029\n",
      " 0.8811480974367527 0.32186138708266854 0.03677384192954766\n",
      " 0.010987155538209727 0.148898601084248 0.6497904370088532\n",
      " 1.29661502659041 1.6454370570294734 1.5618200194667762 1.3173897801430572\n",
      " 1.257828117872068 1.3981915961968507 1.6079187527508803\n",
      " 1.7275158949301277 1.5486787196056384 1.0183266680005572\n",
      " 0.41951835703961726 0.09277812886126165 0.007524787652100756\n",
      " 0.0026779738950057767 0.021353230901727093 0.1638361693547925\n",
      " 0.6278964136687802 1.2647054161823972 1.6985287948393486\n",
      " 1.8018926342888058 1.7989188467392898 1.8096388266120158\n",
      " 1.7673608627677524 1.5113034181191887 0.940219831690542\n",
      " 0.37462265301198466 0.08968662745516065 0.01242285535928789\n",
      " 0.001888554532762984 7.419138447219777e-05 0.0014458329464907937\n",
      " 0.010313882962079116 0.07974200718839404 0.3194377039519834\n",
      " 0.7964419808186276 1.283065244289631 1.5204908845570166\n",
      " 1.4267537972177138 1.0313069374908304 0.5322402963056251\n",
      " 0.17416638656401298 0.035764451541811085 0.005528048842165951\n",
      " 0.00043659299751962297 0.0] [0.050159628601109965 0.07936950889487361 0.14648901746217746\n",
      " 0.2655223371146107 0.44230620352209143 0.6351480008864957\n",
      " 0.7404621045471744 0.7483870324611629 0.7520369600843845\n",
      " 0.6781627807294053 0.4818136224434048 0.2959936945823677\n",
      " 0.1022982521610409 0.06829562252593215 0.003691971453195241 0.0\n",
      " 0.05533051479920281 0.09360636836006003 0.24001276902879032\n",
      " 0.48342221741623065 0.7275020905264639 0.8019849995967496\n",
      " 0.6940795134113906 0.6096774961800091 0.6528438147801148\n",
      " 0.7587490673485873 0.8066746589461127 0.6417790783619358\n",
      " 0.3755085536512531 0.1824218727182793 0.05609097030438776\n",
      " 0.00018378497640304957 0.09073901541401119 0.19288367331134293\n",
      " 0.41698995280646745 0.7076905823268967 0.835158839920843\n",
      " 0.7304035259743309 0.6280081514843046 0.6328514075045447\n",
      " 0.6861005385649366 0.6719798687089419 0.7514574140221845\n",
      " 0.824431822151879 0.6636275348547305 0.3742086288084069\n",
      " 0.13819417801945955 0.02986191572114775 0.09455337895948868\n",
      " 0.28275005788516766 0.6061589725985077 0.8421846816158158\n",
      " 0.8025256371634784 0.6806844300539202 0.74806996556259 0.8296189007371838\n",
      " 0.8545955596976381 0.8139167907013153 0.7256573256719602\n",
      " 0.7809282493198901 0.8291055084819733 0.6200328142426561\n",
      " 0.3012340178977126 0.055815451220974435 0.1093658706863129\n",
      " 0.4418348366307129 0.7864033356792317 0.854671840521485\n",
      " 0.7258710285358054 0.7497698331766522 0.8600188259456357\n",
      " 0.8484757596646944 0.7934611734697399 0.8301512785642552\n",
      " 0.8382389039755574 0.7468307163882053 0.8232501363797903\n",
      " 0.807749355290937 0.5214766556952507 0.15117941556378348\n",
      " 0.19329693953465354 0.6435196384952321 0.866847325883017\n",
      " 0.7991751919154366 0.7322367414026016 0.8366130898590514\n",
      " 0.8589736028294405 0.7100368062606017 0.5930028771759049\n",
      " 0.6769193549038051 0.831300489521674 0.8223572289490085\n",
      " 0.7877428054795919 0.8572116028798128 0.719108684279098 0.269220701032806\n",
      " 0.33231380418711065 0.7925832722365143 0.869718115322233\n",
      " 0.769382790135385 0.7946541023067328 0.8642828865158625\n",
      " 0.7765661732787865 0.5265478323762951 0.3761121495876178\n",
      " 0.4767511980891855 0.7551436265692997 0.8538240542106872\n",
      " 0.7911493892889384 0.8391067258392909 0.8315642026643998\n",
      " 0.4236397428918218 0.4870320304211125 0.8634700624013454\n",
      " 0.8477481999892932 0.7728163546263479 0.8529478153709795\n",
      " 0.8561269140641543 0.6265205245564036 0.3570700091234499\n",
      " 0.23223924329876525 0.35076543539540045 0.6851599736814232\n",
      " 0.8532805253601949 0.8216823002699769 0.823020619168954\n",
      " 0.8738986742457953 0.5526034535769669 0.6015968811791572\n",
      " 0.8849137920798906 0.8236678802599671 0.7971953273885477\n",
      " 0.8791164781805344 0.8040031257716728 0.48851552669164516\n",
      " 0.23387356303434065 0.13295498952261198 0.2828240206597652\n",
      " 0.6475467292939698 0.8551508369899925 0.8327432271287287\n",
      " 0.8137601256080954 0.879500638989529 0.623278480565419 0.6272747877369651\n",
      " 0.8875536159046051 0.8083466501539317 0.7992179406236902\n",
      " 0.8832412861932148 0.7405760481666201 0.3958732144536189\n",
      " 0.15819487590006093 0.1357744983045834 0.3173948380228155\n",
      " 0.6644786915854871 0.8694419257843414 0.8247998422110081\n",
      " 0.8148571180677223 0.8756378834641041 0.5990846171249088\n",
      " 0.5608784939766968 0.8791727814844388 0.7999942743723256\n",
      " 0.7795003547805897 0.8713002376978265 0.7074697232546732\n",
      " 0.3704247963533139 0.22290009445770553 0.2618402033795474\n",
      " 0.4533363264208085 0.7480308480843915 0.8660366620355471\n",
      " 0.7695803654438674 0.8215167586534736 0.8589015924422905\n",
      " 0.49963458976811176 0.390619385179098 0.8349414751618961\n",
      " 0.8176415894966172 0.7246795511945062 0.8409192982607048\n",
      " 0.7591440956223229 0.5117228431441612 0.44127004759715477\n",
      " 0.5160848550109565 0.6842942491293107 0.8420838321233073\n",
      " 0.7768606265894801 0.7074852814375389 0.8390493254665716\n",
      " 0.7730853428643485 0.33402271941528333 0.20496359204873513\n",
      " 0.6817938543176075 0.8407052638423694 0.6827306986033881\n",
      " 0.7263155436567353 0.8238642290454261 0.7465437002280888\n",
      " 0.7280410591695694 0.7907689507461554 0.8230622077459615\n",
      " 0.7651695924293693 0.6352674240403103 0.7389406513538053 0.83383077434941\n",
      " 0.5751473683675725 0.17053731077077916 0.09878586161979357\n",
      " 0.3812981930255082 0.7515532866231874 0.7802704822173091\n",
      " 0.5637728653044638 0.6422848171173013 0.7480367616274484\n",
      " 0.7756651403108269 0.7329491802458816 0.6318425942937955\n",
      " 0.5106142671614812 0.6556425035651098 0.8077193438406048\n",
      " 0.634404155125227 0.30803672514794983 0.07700312005975936\n",
      " 0.04284915327209128 0.1492411691795301 0.38866491844273726\n",
      " 0.7091373640293082 0.7476002591056186 0.5377887196866682\n",
      " 0.4696147153491243 0.4759747925536826 0.4704506632731757\n",
      " 0.5173381092534587 0.6745917824275719 0.7687270579393047\n",
      " 0.5828432524234927 0.2996801670511119 0.097149336177414\n",
      " 0.050278859551276464 0.0023006392254685 0.0319935118846569\n",
      " 0.08285179674490291 0.2533331603307921 0.48045480461101414\n",
      " 0.6586479182642159 0.6697719983860378 0.6432176465090379\n",
      " 0.6627413309304948 0.675677390687822 0.5862247625862629\n",
      " 0.3564605028521792 0.1715123328950103 0.05674756965224416\n",
      " 0.012019357102491739 0.0]\n"
     ]
    }
   ],
   "source": [
    "print(mu[0], sig[0])"
   ]
  },
  {
   "cell_type": "markdown",
   "metadata": {},
   "source": [
    "## A2- Log-vraisemblance d'une image pour une classe\n",
    "\n",
    "Écrivez une fonction `log_likelihood : float np.array x float np.array x float np.array -> float` qui, étant donné une image (donc un tableau de 256 nombres réels) et un couple de paramètres `( array ( [μ0,…,μ255] ), array ( [σ20,…,σ255] ) )`, renvoie la log-vraisemblance qu'aurait l'image selon cet ensemble de $μ_i$ et $σ_i$ (correspondant à une classe de chiffre). Rappelez-vous que (en mettant $-\\frac{1}{2}$ en facteur) : \n",
    "\n",
    "$$\\log(p(x_0,\\cdots,x_{255})=\\sum_{i=0}^{255} \\log p(x_i)=-\\frac{1}{2}\\sum_{i=0}^{255} \\left[ \\log(2\\pi \\sigma^2_i) + \\frac{(x_i-\\mu_i)^2}{\\sigma_i^2} \\right]$$\n",
    "\n",
    "Notez que le module `np` contient une constante `np.pi` ainsi que toutes les fonctions mathématiques classiques directement applicables sur des vecteurs. Vous pouvez donc éventuellement coder la ligne précédente sans boucle, en une ligne.\n",
    "\n",
    "**Attention**: dans la matrice `sig` calculée dans la question précédente, pour certains pixels de certaines classes, la valeur de $σ^2$ est égale à $0$ (toutes les images de la base d'apprentissage avaient exactement la même valeur sur ce pixel). \n",
    "* cette valeur pose problème dans le calcul précédent (division par 0)\n",
    "* Réfléchir à différente manière de traiter ce problème:\n",
    " * faible valeur par défaut de $\\sigma$ reflétant une variance très faible mais évitant la division par 0 (usage de  `np.maximum`par exemple)\n",
    " * vraisemblance de 1 pour le ou les pixels impactés"
   ]
  },
  {
   "cell_type": "code",
   "execution_count": 8,
   "metadata": {},
   "outputs": [],
   "source": [
    "import math\n",
    "\n",
    "# on utilisera dans le suite le paramètre defeps: \n",
    "#    positif, il donne la valeur minimale d'écart type\n",
    "#    = -1, il faut prendre une vraisemblance de 1 pour les pixels concernés\n",
    "def log_likelihood(img, mu, sig, defsig = 1e-5):\n",
    "    res = 0\n",
    "    for i in range(256):\n",
    "        if defsig==-1 and sig[i]==0:\n",
    "            res += math.log(1)\n",
    "        elif sig[i]<defsig:   \n",
    "            res += math.log(2*np.pi*defsig**2)+((img[i]-mu[i])**2)/defsig**2\n",
    "        else:\n",
    "            res += math.log(2*np.pi*sig[i]**2)+((img[i]-mu[i])**2)/sig[i]**2\n",
    "    \n",
    "    return -0.5*res"
   ]
  },
  {
   "cell_type": "code",
   "execution_count": 9,
   "metadata": {},
   "outputs": [
    {
     "name": "stdout",
     "output_type": "stream",
     "text": [
      "-90.6996303516872\n",
      "[-111.88760421521829, -1716629080.9897842, -364.8317101985198, -487.0108554487583, -544.9100255404519, -387.75946984197986, -59747.8395637312, -581523.2639945268, -303.7625034116856, -13497.825910916888]\n"
     ]
    }
   ],
   "source": [
    "print(log_likelihood(X_train[0], mu[0], sig[0])) \n",
    "# vraisemblance de l'image 0 selon les paramètres de la classe 0\n",
    "\n",
    "print([log_likelihood(X_train[0], mu[i], sig[i],-1) for i in range(10)]) \n",
    "# vraisemblance de l'image 0 pour toutes les classes"
   ]
  },
  {
   "cell_type": "markdown",
   "metadata": {},
   "source": [
    "Check : le code ci-dessus avec une valeur par défaut de $1e-5$ pour les sigmas nuls doit donner:\n",
    "```\n",
    "-90.69963035168726\n",
    "```\n",
    "puis pour toutes les classes:\n",
    "```\n",
    "[-90.69963035168726, -231211311074.5327, -364.8317101985202, -487.01085544875843, -513.128064745155, -387.75946984198, -59610.117733618186, -75567222244.77489, -271.980542616389, -857252055.4774221]\n",
    "```\n",
    "\n",
    "Avec une vraisemblance de 1 pour les pixels problématiques:\n",
    "```\n",
    "[-111.88760421521835, -1716629080.989729, -364.83171019852006, -487.01085544875855, -544.9100255404516, -387.7594698419803, -59747.8395637312, -581523.2639945432, -303.762503411686, -13497.825910916881]\n",
    "```"
   ]
  },
  {
   "cell_type": "markdown",
   "metadata": {},
   "source": [
    "## A3- Classification d'une image\n",
    "Écrire une fonction `classify_image : float np.array x float np.array x float np.array -> int` qui, étant donnée une image et l'ensemble de paramètres déterminés dans les questions précédentes, renvoie la classe la plus probable de l'image, c'est-à-dire celle dont la log-vraisemblance est la plus grande."
   ]
  },
  {
   "cell_type": "code",
   "execution_count": 10,
   "metadata": {},
   "outputs": [],
   "source": [
    "def classify_image(img, mu, sig, defeps=1e-5):\n",
    "    liste = [log_likelihood(img, mu[i], sig[i],defeps) for i in range(10)]\n",
    "    tmp = max(liste)\n",
    "    classe = liste.index(tmp)\n",
    "    return classe"
   ]
  },
  {
   "cell_type": "code",
   "execution_count": 11,
   "metadata": {},
   "outputs": [
    {
     "data": {
      "text/plain": [
       "0"
      ]
     },
     "execution_count": 11,
     "metadata": {},
     "output_type": "execute_result"
    }
   ],
   "source": [
    "# check\n",
    "classify_image(X_train[0], mu, sig, -1)\n",
    "# l'image 0 est de la classe 0"
   ]
  },
  {
   "cell_type": "markdown",
   "metadata": {},
   "source": [
    "## A4- Classification de toutes les images\n",
    "Écrire une fonction `classify_all_images : float np.array x float np.array x float np.array -> float np.array` qui, étant donné un tableau $X$ des images ($N \\times 256$) et l'ensemble de paramètres déterminés dans les questions précédentes, renvoie un tableau $\\hat Y$ qui donne la prédiction de classe pour toutes les images"
   ]
  },
  {
   "cell_type": "code",
   "execution_count": 12,
   "metadata": {},
   "outputs": [],
   "source": [
    "def classify_all_images(X, mu, sig, defeps=1e-5):\n",
    "    classes = []\n",
    "    for xi in X:\n",
    "        classes.append(classify_image(xi, mu, sig, defeps))\n",
    "        \n",
    "    return classes"
   ]
  },
  {
   "cell_type": "code",
   "execution_count": 13,
   "metadata": {},
   "outputs": [
    {
     "name": "stdout",
     "output_type": "stream",
     "text": [
      "[0, 9, 7, 8, 2, 5, 2, 0, 9, 0, 8, 3, 0, 6, 6, 5, 2, 1, 6, 4, 0, 6, 5, 9, 8, 4, 0, 7, 6, 5, 4, 4, 2, 7, 6, 6, 6, 2, 1, 1, 8, 1, 1, 8, 0, 3, 1, 1, 8, 0, 7, 2, 5, 0, 2, 9, 9, 2, 0, 8, 6, 0, 6, 9, 8, 7, 9, 1, 3, 5, 1, 0, 0, 6, 6, 2, 1, 3, 8, 0, 0, 5, 8, 6, 2, 1, 0, 1, 0, 8, 3, 4, 0, 9, 1, 5, 0, 0, 0, 2, 6, 8, 1, 9, 8, 3, 0, 9, 2, 2, 0, 0, 1, 5, 2, 0, 0, 1, 8, 0, 9, 3, 9, 1, 1, 8, 5, 0, 0, 9, 0, 1, 2, 1, 8, 1, 9, 1, 0, 3, 6, 6, 8, 5, 9, 0, 8, 2, 3, 2, 0, 1, 7, 9, 0, 2, 0, 3, 8, 0, 7, 8, 0, 8, 8, 1, 8, 2, 8, 5, 9, 2, 7, 0, 8, 0, 2, 6, 6, 0, 6, 0, 8, 2, 9, 9, 9, 3, 1, 0, 5, 1, 9, 2, 4, 0, 2, 1, 0, 3, 9, 1, 7, 9, 8, 9, 0, 7, 1, 9, 1, 0, 4, 9, 6, 1, 2, 1, 0, 9, 1, 5, 0, 3, 1, 9, 2, 0, 8, 9, 6, 7, 8, 0, 0, 9, 1, 9, 9, 3, 9, 7, 8, 4, 1, 9, 4, 7, 9, 6, 7, 9, 3, 3, 1, 3, 2, 8, 2, 2, 4, 8, 3, 6, 9, 6, 9, 1, 5, 4, 2, 4, 8, 0, 4, 0, 1, 1, 6, 2, 4, 0, 7, 9, 5, 5, 3, 7, 6, 2, 8, 8, 1, 0, 6, 4, 3, 6, 0, 2, 0, 8, 0, 5, 0, 0, 1, 6, 8, 8, 2, 6, 0, 6, 6, 1, 8, 9, 8, 8, 0, 4, 3, 1, 9, 2, 2, 7, 0, 8, 0, 2, 2, 8, 0, 6, 7, 6, 8, 1, 7, 6, 6, 8, 9, 1, 8, 1, 1, 6, 9, 2, 9, 0, 3, 9, 9, 1, 3, 7, 0, 6, 7, 0, 1, 4, 9, 7, 5, 8, 7, 8, 0, 6, 1, 7, 1, 2, 7, 6, 1, 0, 6, 3, 5, 3, 4, 4, 9, 2, 9, 8, 0, 5, 3, 8, 4, 6, 1, 9, 4, 0, 6, 8, 9, 4, 6, 8, 1, 2, 8, 1, 2, 7, 0, 6, 0, 8, 0, 4, 4, 6, 4, 2, 8, 7, 9, 0, 3, 8, 9, 2, 9, 0, 2, 5, 4, 9, 5, 8, 2, 1, 5, 1, 2, 8, 3, 4, 6, 6, 1, 5, 0, 6, 0, 5, 1, 8, 1, 2, 4, 8, 0, 9, 9, 9, 6, 1, 0, 8, 3, 9, 6, 6, 1, 7, 9, 3, 7, 4, 8, 6, 0, 8, 9, 2, 7, 0, 3, 4, 6, 6, 8, 1, 7, 8, 9, 1, 9, 3, 8, 6, 0, 2, 0, 3, 9, 2, 0, 3, 0, 1, 3, 1, 2, 1, 7, 2, 1, 9, 7, 9, 8, 5, 2, 8, 0, 6, 9, 6, 9, 8, 1, 6, 2, 2, 6, 0, 1, 8, 3, 3, 0, 2, 9, 9, 1, 0, 0, 2, 4, 3, 1, 7, 0, 9, 1, 5, 1, 9, 4, 8, 8, 1, 4, 5, 6, 0, 8, 2, 8, 1, 8, 4, 8, 0, 1, 3, 3, 3, 9, 8, 9, 5, 2, 9, 4, 4, 6, 4, 0, 7, 0, 8, 1, 2, 6, 7, 9, 2, 8, 4, 2, 6, 6, 6, 0, 4, 9, 6, 8, 4, 4, 6, 8, 0, 9, 9, 6, 9, 0, 8, 0, 8, 5, 2, 8, 8, 0, 7, 2, 5, 0, 9, 9, 7, 8, 2, 7, 0, 0, 9, 2, 4, 9, 8, 7, 4, 1, 4, 6, 0, 8, 1, 2, 9, 8, 8, 0, 3, 7, 6, 0, 2, 0, 3, 3, 4, 1, 7, 9, 5, 6, 5, 7, 4, 1, 0, 9, 5, 6, 7, 6, 9, 0, 2, 4, 1, 8, 1, 1, 5, 6, 1, 9, 7, 0, 3, 6, 1, 3, 4, 9, 8, 9, 6, 3, 3, 2, 7, 6, 8, 5, 0, 9, 6, 6, 0, 0, 7, 1, 8, 0, 8, 2, 1, 1, 5, 7, 3, 8, 6, 6, 7, 7, 6, 9, 8, 6, 9, 9, 6, 0, 9, 3, 1, 5, 3, 2, 7, 9, 0, 6, 2, 8, 7, 2, 0, 8, 7, 9, 2, 7, 9, 0, 1, 9, 5, 3, 6, 0, 1, 6, 8, 8, 7, 4, 1, 7, 2, 0, 6, 0, 1, 3, 2, 3, 8, 8, 1, 1, 8, 7, 1, 0, 8, 4, 6, 3, 2, 9, 7, 6, 6, 8, 8, 3, 9, 8, 9, 9, 8, 6, 5, 5, 6, 1, 8, 6, 8, 5, 0, 0, 8, 1, 9, 7, 3, 9, 0, 5, 0, 1, 6, 6, 6, 0, 1, 1, 6, 8, 8, 0, 5, 9, 8, 7, 3, 5, 9, 0, 8, 8, 1, 9, 7, 0, 2, 3, 4, 7, 9, 8, 6, 5, 2, 6, 3, 8, 9, 1, 9, 1, 9, 9, 7, 9, 0, 5, 0, 1, 5, 9, 7, 5, 0, 0, 7, 8, 6, 0, 8, 8, 9, 2, 3, 2, 2, 1, 9, 0, 8, 3, 3, 5, 0, 9, 8, 0, 1, 0, 0, 1, 1, 7, 3, 0, 9, 0, 0, 2, 9, 2, 3, 8, 5, 4, 9, 0, 6, 4, 8, 5, 9, 3, 6, 4, 1, 0, 1, 6, 0, 4, 7, 2, 4, 8, 2, 0, 6, 0, 0, 1, 7, 0, 0, 1, 1, 0, 0, 5, 7, 5, 0, 1, 0, 7, 0, 6, 7, 2, 6, 8, 8, 6, 7, 7, 6, 0, 9, 1, 0, 8, 1, 1, 4, 3, 5, 7, 7, 1, 2, 5, 5, 2, 6, 0, 4, 1, 2, 0, 7, 4, 9, 6, 2, 8, 8, 0, 2, 8, 8, 0, 1, 8, 1, 8, 8, 0, 9, 0, 0, 0, 8, 9, 6, 8, 1, 9, 4, 0, 7, 7, 3, 2, 1, 0, 7, 8, 4, 9, 1, 3, 6, 6, 1, 8, 0, 9, 3, 9, 9, 9, 1, 9, 8, 7, 1, 8, 7, 3, 6, 1, 6, 0, 2, 8, 5, 9, 2, 6, 0, 0, 6, 9, 0, 0, 6, 4, 4, 2, 2, 0, 8, 9, 9, 8, 3, 5, 6, 8, 1, 0, 1, 9, 8, 9, 1, 9, 0, 1, 1, 0, 1, 0, 5, 4, 9, 2, 6, 2, 6, 3, 6, 8, 0, 5, 3, 8, 6, 3, 7, 1, 9, 6, 4, 3, 8, 2, 6, 0, 1, 9, 9, 1, 4, 3, 1, 5, 0, 1, 4, 0, 5, 1, 9, 2, 3, 5, 7, 9, 2, 9, 9, 0, 8, 8, 5, 4, 6, 3, 1, 7, 9, 1, 8, 3, 9, 8, 1, 6, 2, 8, 4, 2, 9, 7, 6, 8, 6, 7, 6, 9, 4, 1, 0, 8, 5, 7, 9, 5, 4, 0, 6, 6, 8, 5, 8, 0, 6, 0, 9, 7, 2, 9, 1, 4, 6, 6, 5, 4, 0, 7, 1, 4, 3, 8, 6, 8, 8, 3, 8, 8, 1, 0, 1, 9, 6, 7, 1, 0, 8, 8, 9, 8, 5, 9, 9, 0, 0, 9, 4, 2, 1, 6, 4, 1, 8, 6, 3, 1, 3, 2, 7, 8, 9, 8, 8, 6, 1, 5, 7, 0, 8, 6, 1, 8, 6, 1, 5, 9, 8, 9, 7, 1, 0, 0, 6, 8, 9, 6, 9, 9, 1, 0, 9, 3, 0, 8, 9, 1, 2, 6, 9, 9, 5, 0, 2, 4, 6, 1, 1, 6, 0, 2, 9, 4, 3, 5, 6, 8, 9, 2, 0, 9, 1, 2, 5, 6, 2, 7, 2, 7, 1, 0, 8, 3, 0, 5, 1, 5, 8, 6, 0, 4, 6, 8, 5, 0, 2, 7, 9, 8, 2, 1, 7, 8, 6, 5, 6, 2, 8, 6, 2, 1, 1, 6, 2, 8, 1, 2, 1, 9, 8, 4, 4, 1, 8, 9, 0, 8, 0, 9, 2, 6, 0, 8, 0, 1, 2, 3, 9, 2, 1, 8, 5, 3, 9, 1, 0, 3, 1, 7, 8, 8, 9, 0, 9, 7, 1, 5, 6, 4, 0, 8, 8, 9, 1, 7, 2, 4, 6, 0, 1, 1, 8, 9, 9, 3, 3, 2, 1, 3, 8, 0, 1, 7, 9, 0, 8, 8, 8, 6, 4, 4, 2, 8, 4, 3, 2, 3, 4, 6, 2, 3, 9, 7, 4, 9, 8, 7, 1, 3, 5, 9, 9, 7, 7, 7, 2, 9, 3, 7, 1, 5, 9, 7, 0, 8, 8, 7, 8, 8, 5, 6, 9, 1, 9, 3, 8, 4, 5, 6, 9, 4, 4, 8, 8, 9, 7, 7, 9, 0, 1, 0, 0, 1, 0, 6, 5, 4, 9, 4, 7, 3, 9, 1, 6, 6, 3, 0, 2, 0, 1, 5, 0, 0, 8, 0, 3, 2, 3, 3, 8, 5, 8, 0, 1, 1, 8, 6, 6, 0, 1, 7, 9, 9, 6, 6, 1, 9, 9, 9, 8, 9, 7, 7, 1, 6, 0, 0, 0, 2, 4, 1, 2, 1, 0, 3, 3, 5, 2, 6, 9, 0, 2, 9, 5, 2, 2, 9, 0, 8, 9, 4, 9, 0, 0, 0, 0, 8, 2, 0, 7, 9, 9, 6, 9, 6, 2, 1, 9, 3, 1, 5, 7, 6, 0, 8, 6, 3, 6, 1, 1, 1, 6, 3, 7, 6, 0, 9, 1, 6, 6, 6, 0, 0, 5, 8, 7, 9, 3, 6, 9, 0, 1, 4, 0, 0, 8, 2, 8, 2, 0, 3, 5, 1, 0, 9, 1, 6, 4, 1, 0, 1, 0, 0, 0, 6, 1, 1, 6, 9, 3, 2, 9, 8, 0, 9, 8, 0, 6, 7, 8, 5, 1, 3, 1, 4, 3, 1, 7, 8, 2, 1, 3, 9, 2, 6, 4, 6, 6, 0, 5, 9, 4, 2, 0, 8, 2, 3, 9, 3, 0, 3, 3, 1, 0, 9, 6, 6, 3, 9, 6, 1, 1, 6, 2, 8, 1, 9, 8, 3, 1, 5, 2, 5, 1, 8, 8, 0, 1, 0, 0, 0, 5, 7, 3, 2, 6, 6, 2, 1, 1, 3, 3, 9, 2, 6, 2, 8, 7, 8, 2, 8, 2, 1, 3, 7, 7, 0, 0, 4, 8, 6, 6, 8, 8, 8, 0, 0, 9, 1, 7, 8, 8, 0, 7, 9, 8, 6, 0, 8, 4, 8, 1, 6, 5, 2, 2, 9, 2, 5, 9, 9, 1, 1, 2, 8, 9, 8, 1, 9, 6, 6, 6, 0, 9, 8, 2, 7, 6, 3, 3, 6, 5, 8, 0, 1, 8, 6, 9, 7, 4, 0, 4, 5, 8, 7, 2, 0, 0, 8, 1, 9, 0, 7, 1, 6, 9, 8, 0, 9, 1, 0, 0, 4, 9, 4, 7, 9, 9, 8, 0, 3, 6, 7, 1, 3, 6, 8, 1, 3, 9, 6, 0, 2, 2, 3, 7, 2, 1, 1, 6, 8, 2, 1, 4, 0, 2, 9, 3, 8, 2, 6, 1, 2, 2, 9, 3, 1, 3, 3, 1, 3, 2, 0, 0, 8, 1, 1, 0, 7, 1, 7, 1, 9, 2, 5, 8, 5, 1, 9, 1, 0, 5, 7, 9, 7, 2, 5, 5, 0, 8, 2, 7, 5, 1, 6, 1, 8, 0, 8, 7, 0, 0, 6, 9, 6, 1, 1, 1, 9, 9, 0, 0, 8, 5, 1, 9, 7, 3, 8, 6, 8, 9, 9, 9, 0, 8, 9, 3, 7, 1, 3, 9, 0, 8, 8, 7, 8, 8, 8, 0, 1, 5, 0, 4, 0, 1, 7, 0, 2, 1, 1, 6, 0, 4, 0, 9, 6, 6, 4, 1, 1, 6, 1, 8, 1, 4, 0, 3, 0, 7, 9, 8, 7, 2, 5, 3, 3, 7, 4, 0, 1, 4, 0, 6, 1, 5, 7, 1, 6, 1, 6, 9, 9, 1, 5, 8, 7, 2, 1, 8, 8, 9, 3, 9, 2, 0, 5, 0, 2, 7, 5, 2, 5, 9, 0, 2, 0, 3, 9, 0, 1, 1, 8, 0, 5, 7, 9, 4, 3, 3, 9, 1, 2, 0, 0, 8, 6, 1, 1, 2, 1, 3, 9, 8, 5, 4, 0, 9, 8, 1, 6, 7, 1, 7, 5, 7, 1, 6, 1, 5, 1, 1, 9, 8, 0, 3, 4, 2, 9, 1, 0, 1, 7, 0, 1, 3, 8, 0, 3, 2, 8, 6, 5, 9, 3, 6, 1, 8, 9, 4, 9, 1, 6, 8, 3, 1, 9, 6, 3, 8, 8, 6, 0, 4, 8, 2, 1, 8, 1, 8, 6, 5, 3, 0, 0, 8, 3, 1, 2, 0, 8, 0, 1, 7, 1, 9, 2, 1, 6, 3, 6, 6, 8, 2, 2, 1, 5, 6, 9, 7, 9, 9, 9, 6, 7, 7, 0, 9, 3, 8, 3, 0, 9, 4, 6, 1, 8, 0, 8, 1, 6, 1, 3, 9, 8, 9, 1, 9, 7, 1, 5, 8, 9, 8, 3, 3, 2, 0, 0, 2, 7, 1, 6, 4, 3, 4, 6, 2, 9, 0, 8, 6, 4, 3, 1, 8, 9, 3, 1, 2, 9, 9, 2, 6, 1, 8, 6, 8, 6, 9, 6, 6, 2, 0, 8, 6, 1, 9, 0, 1, 0, 9, 3, 2, 3, 6, 2, 0, 6, 7, 0, 6, 9, 1, 0, 2, 8, 7, 0, 0, 1, 6, 2, 2, 2, 1, 2, 5, 1, 0, 8, 6, 0, 9, 3, 2, 9, 5, 1, 0, 1, 1, 9, 6, 3, 0, 5, 8, 1, 8, 0, 8, 8, 9, 7, 0, 8, 5, 6, 2, 3, 1, 0, 5, 0, 4, 6, 2, 8, 7, 0, 7, 4, 9, 1, 2, 9, 7, 1, 7, 7, 7, 2, 7, 2, 6, 0, 9, 2, 4, 1, 1, 7, 0, 6, 2, 2, 1, 9, 3, 4, 9, 5, 4, 5, 0, 9, 4, 1, 1, 0, 3, 2, 2, 0, 8, 8, 9, 0, 8, 0, 5, 3, 7, 8, 0, 0, 9, 5, 8, 0, 1, 9, 4, 9, 9, 4, 0, 3, 6, 3, 4, 1, 6, 0, 0, 1, 2, 5, 5, 2, 2, 0, 1, 1, 1, 7, 7, 7, 1, 6, 6, 5, 9, 1, 6, 7, 0, 3, 3, 4, 6, 9, 3, 4, 2, 6, 6, 2, 9, 1, 1, 0, 3, 2, 4, 8, 9, 6, 1, 6, 3, 3, 4, 3, 6, 6, 0, 1, 1, 5, 0, 0, 0, 1, 2, 0, 3, 0, 7, 6, 8, 3, 1, 8, 1, 6, 5, 2, 0, 6, 2, 3, 5, 8, 3, 3, 4, 8, 3, 8, 0, 0, 7, 7, 6, 4, 9, 9, 2, 1, 8, 2, 0, 0, 9, 8, 9, 9, 3, 6, 9, 0, 1, 7, 3, 8, 2, 1, 6, 9, 3, 7, 8, 9, 0, 3, 0, 1, 3, 2, 4, 0, 9, 9, 0, 9, 3, 7, 1, 4, 3, 9, 2, 3, 9, 2, 9, 7, 8, 8, 3, 1, 9, 1, 1, 0, 9, 4, 9, 1, 6, 1, 0, 1, 6, 0, 5, 8, 2, 0, 9, 0, 8, 7, 8, 3, 0, 0, 8, 6, 6, 9, 4, 0, 8, 6, 3, 1, 9, 6, 8, 4, 7, 0, 1, 0, 1, 2, 8, 4, 9, 9, 9, 3, 9, 3, 6, 6, 0, 5, 5, 6, 9, 9, 9, 9, 2, 0, 2, 5, 8, 2, 5, 0, 9, 0, 0, 8, 6, 0, 9, 8, 9, 8, 6, 1, 9, 0, 8, 3, 8, 7, 1, 8, 5, 0, 3, 6, 6, 3, 0, 1, 4, 6, 9, 9, 0, 7, 9, 1, 5, 0, 9, 5, 9, 5, 0, 7, 9, 0, 9, 2, 8, 2, 1, 2, 1, 7, 5, 9, 9, 8, 2, 9, 9, 6, 6, 1, 9, 1, 1, 5, 0, 8, 4, 2, 6, 3, 9, 1, 2, 0, 1, 9, 5, 2, 6, 0, 9, 0, 0, 9, 6, 1, 8, 9, 9, 9, 2, 0, 2, 2, 1, 0, 5, 0, 6, 8, 0, 0, 8, 8, 0, 9, 8, 8, 2, 0, 0, 3, 1, 6, 6, 9, 5, 2, 6, 0, 7, 9, 0, 1, 6, 8, 5, 0, 7, 0, 2, 7, 2, 9, 3, 2, 6, 8, 2, 8, 3, 3, 3, 0, 5, 6, 2, 6, 9, 9, 7, 8, 3, 1, 9, 7, 7, 1, 7, 0, 8, 5, 7, 4, 2, 6, 1, 5, 1, 6, 6, 3, 0, 0, 3, 4, 8, 6, 1, 9, 8, 6, 9, 4, 6, 3, 9, 9, 0, 0, 8, 5, 9, 9, 0, 3, 3, 0, 0, 2, 1, 6, 1, 5, 0, 0, 2, 3, 6, 8, 8, 5, 3, 6, 8, 6, 6, 7, 2, 1, 8, 2, 8, 6, 0, 0, 1, 7, 1, 1, 5, 7, 2, 0, 6, 0, 9, 4, 6, 1, 0, 0, 7, 9, 3, 9, 9, 6, 3, 4, 2, 1, 5, 6, 4, 0, 6, 0, 9, 4, 6, 8, 1, 2, 1, 0, 3, 1, 1, 9, 0, 1, 8, 3, 9, 8, 6, 5, 6, 0, 8, 6, 9, 7, 6, 9, 8, 0, 5, 2, 3, 3, 3, 1, 5, 1, 7, 3, 0, 0, 6, 2, 2, 0, 1, 2, 9, 9, 0, 9, 0, 1, 0, 4, 6, 9, 9, 8, 8, 8, 0, 9, 1, 0, 4, 2, 5, 9, 7, 9, 1, 5, 4, 8, 9, 9, 3, 0, 0, 8, 0, 6, 1, 6, 9, 9, 5, 6, 0, 6, 3, 3, 8, 9, 3, 8, 5, 2, 2, 9, 9, 6, 9, 0, 3, 8, 3, 1, 9, 1, 5, 0, 7, 0, 4, 0, 2, 9, 9, 6, 0, 9, 9, 6, 2, 1, 1, 9, 8, 8, 1, 9, 0, 1, 9, 0, 6, 7, 8, 0, 9, 2, 1, 8, 3, 1, 0, 1, 0, 1, 2, 1, 5, 9, 1, 0, 1, 9, 3, 3, 7, 6, 0, 1, 9, 3, 8, 3, 0, 2, 4, 0, 6, 9, 4, 9, 9, 4, 3, 6, 2, 3, 9, 7, 8, 9, 5, 2, 4, 1, 0, 3, 9, 8, 2, 6, 0, 0, 0, 7, 9, 6, 6, 2, 0, 2, 0, 3, 8, 2, 0, 0, 0, 0, 9, 7, 9, 9, 6, 0, 6, 3, 8, 9, 0, 8, 6, 0, 9, 2, 8, 1, 1, 6, 9, 0, 1, 9, 7, 6, 2, 3, 4, 6, 1, 8, 8, 9, 1, 2, 0, 8, 6, 0, 5, 9, 8, 3, 4, 5, 8, 1, 6, 1, 0, 1, 6, 8, 8, 9, 0, 2, 4, 1, 1, 9, 2, 3, 8, 3, 5, 2, 0, 7, 9, 3, 0, 6, 9, 1, 0, 9, 0, 3, 8, 9, 1, 2, 4, 1, 3, 6, 0, 2, 9, 6, 8, 6, 7, 6, 8, 2, 5, 8, 3, 0, 0, 9, 6, 6, 2, 7, 8, 7, 4, 0, 9, 1, 0, 0, 4, 6, 4, 7, 1, 4, 1, 8, 8, 3, 8, 6, 1, 3, 0, 6, 0, 7, 7, 0, 9, 3, 9, 9, 4, 4, 3, 9, 0, 8, 4, 6, 9, 0, 9, 2, 0, 3, 6, 1, 8, 6, 0, 3, 0, 0, 6, 6, 3, 0, 6, 1, 0, 2, 0, 4, 8, 3, 3, 6, 3, 6, 2, 7, 0, 4, 2, 8, 4, 9, 0, 2, 1, 8, 0, 7, 3, 0, 0, 0, 8, 4, 9, 2, 8, 0, 1, 0, 1, 2, 5, 8, 3, 5, 0, 1, 3, 0, 9, 7, 8, 0, 9, 0, 0, 9, 7, 6, 5, 7, 6, 0, 2, 0, 9, 5, 6, 3, 8, 8, 1, 9, 8, 8, 8, 0, 7, 1, 0, 9, 6, 6, 0, 2, 1, 1, 0, 2, 7, 1, 6, 0, 1, 1, 3, 7, 2, 7, 1, 9, 2, 1, 8, 7, 0, 4, 8, 0, 3, 5, 1, 7, 8, 9, 5, 1, 3, 2, 8, 6, 9, 1, 1, 6, 1, 0, 0, 1, 4, 0, 1, 0, 6, 2, 1, 5, 1, 4, 1, 8, 3, 9, 0, 2, 2, 8, 0, 2, 2, 0, 9, 5, 8, 6, 9, 2, 7, 1, 8, 8, 6, 0, 5, 7, 0, 2, 7, 0, 6, 0, 9, 0, 0, 6, 8, 3, 7, 9, 9, 6, 6, 7, 2, 3, 7, 8, 1, 9, 0, 8, 8, 0, 9, 7, 2, 5, 5, 2, 0, 4, 3, 4, 2, 7, 8, 6, 7, 9, 1, 6, 4, 1, 3, 3, 6, 1, 2, 9, 9, 0, 0, 8, 9, 0, 3, 0, 8, 8, 9, 8, 2, 8, 8, 6, 0, 1, 2, 7, 1, 0, 6, 0, 9, 1, 9, 6, 5, 7, 8, 3, 2, 6, 1, 8, 5, 5, 1, 2, 1, 6, 0, 9, 2, 6, 1, 9, 4, 0, 1, 5, 4, 1, 8, 3, 5, 7, 6, 4, 1, 8, 8, 8, 5, 2, 9, 2, 1, 5, 2, 2, 0, 6, 5, 2, 0, 1, 2, 2, 1, 7, 2, 5, 4, 1, 0, 9, 0, 9, 3, 3, 4, 4, 2, 1, 0, 2, 9, 4, 2, 7, 4, 5, 3, 0, 6, 0, 0, 1, 9, 7, 5, 0, 8, 5, 9, 9, 1, 0, 0, 8, 9, 0, 9, 5, 4, 9, 8, 6, 9, 1, 0, 2, 0, 9, 5, 1, 0, 1, 9, 1, 0, 1, 3, 0, 0, 6, 2, 8, 6, 1, 5, 6, 9, 9, 4, 5, 5, 5, 8, 6, 2, 0, 1, 1, 9, 0, 0, 6, 7, 6, 8, 3, 8, 9, 5, 4, 0, 8, 9, 4, 0, 9, 8, 7, 0, 2, 2, 7, 8, 6, 9, 3, 6, 5, 9, 1, 2, 2, 8, 6, 1, 6, 9, 3, 0, 0, 4, 8, 6, 6, 1, 3, 3, 6, 8, 8, 0, 8, 3, 8, 1, 1, 8, 1, 7, 0, 8, 3, 0, 0, 5, 7, 7, 8, 8, 1, 9, 8, 5, 9, 8, 9, 1, 0, 1, 8, 6, 6, 2, 4, 0, 4, 2, 6, 2, 8, 6, 5, 9, 4, 2, 1, 1, 1, 9, 4, 5, 0, 6, 4, 0, 8, 2, 8, 3, 9, 8, 9, 2, 3, 8, 8, 7, 8, 0, 9, 7, 3, 2, 2, 9, 3, 2, 7, 0, 3, 6, 2, 0, 0, 1, 0, 1, 1, 0, 9, 9, 4, 0, 6, 6, 9, 1, 9, 6, 1, 2, 2, 1, 3, 1, 2, 2, 0, 9, 9, 6, 4, 0, 6, 1, 6, 1, 5, 4, 8, 6, 6, 9, 6, 0, 4, 8, 6, 3, 3, 9, 6, 7, 7, 9, 0, 3, 0, 0, 9, 9, 0, 0, 7, 6, 4, 5, 0, 7, 3, 1, 2, 2, 1, 3, 2, 1, 1, 5, 9, 9, 3, 4, 8, 8, 1, 8, 3, 1, 8, 1, 0, 6, 3, 0, 1, 1, 2, 3, 6, 1, 6, 5, 1, 9, 8, 6, 2, 8, 6, 8, 9, 6, 0, 0, 4, 7, 9, 3, 0, 2, 7, 2, 5, 8, 8, 8, 8, 3, 7, 0, 3, 3, 9, 1, 8, 9, 6, 9, 2, 2, 9, 6, 8, 8, 8, 0, 9, 4, 9, 9, 9, 0, 9, 7, 2, 2, 3, 7, 5, 0, 9, 1, 3, 6, 8, 8, 9, 8, 9, 1, 9, 1, 6, 1, 0, 0, 7, 9, 8, 5, 3, 9, 1, 0, 6, 0, 1, 5, 6, 9, 3, 1, 7, 2, 6, 8, 5, 1, 1, 7, 6, 0, 9, 1, 1, 2, 9, 6, 7, 1, 6, 6, 1, 0, 5, 3, 8, 0, 1, 0, 0, 8, 0, 1, 1, 4, 5, 2, 1, 0, 9, 1, 9, 0, 3, 0, 9, 8, 3, 1, 8, 2, 3, 1, 6, 9, 9, 8, 1, 5, 9, 4, 1, 8, 4, 4, 9, 4, 2, 0, 0, 0, 5, 5, 0, 1, 3, 1, 6, 6, 1, 9, 9, 8, 3, 1, 1, 8, 7, 6, 4, 3, 8, 8, 0, 2, 8, 8, 3, 6, 7, 7, 8, 5, 0, 1, 1, 0, 0, 0, 3, 9, 5, 6, 9, 1, 1, 8, 0, 6, 6, 4, 6, 3, 4, 5, 1, 0, 7, 3, 7, 9, 5, 4, 1, 7, 4, 8, 3, 9, 9, 3, 8, 0, 2, 7, 9, 0, 6, 5, 8, 3, 6, 5, 0, 6, 9, 1, 4, 4, 2, 8, 1, 9, 2, 1, 8, 9, 8, 7, 9, 0, 2, 0, 8, 2, 9, 6, 3, 0, 0, 1, 8, 8, 0, 9, 9, 0, 8, 8, 1, 0, 6, 6, 7, 6, 6, 1, 0, 7, 0, 8, 4, 5, 8, 7, 1, 6, 6, 6, 0, 9, 0, 7, 2, 0, 0, 6, 1, 7, 6, 8, 9, 1, 9, 8, 3, 2, 1, 5, 1, 0, 0, 9, 7, 0, 4, 7, 8, 5, 6, 1, 6, 6, 1, 2, 2, 9, 7, 0, 3, 2, 4, 2, 9, 2, 9, 3, 5, 1, 4, 1, 0, 9, 0, 1, 1, 4, 2, 6, 0, 4, 8, 0, 8, 4, 7, 4, 6, 5, 6, 1, 8, 6, 6, 4, 0, 1, 8, 1, 2, 1, 7, 1, 3, 1, 9, 3, 1, 6, 1, 0, 8, 0, 4, 0, 0, 8, 5, 0, 1, 9, 0, 0, 1, 1, 0, 1, 6, 4, 3, 6, 0, 1, 1, 4, 9, 5, 1, 2, 1, 9, 9, 5, 4, 3, 4, 8, 9, 0, 5, 6, 3, 0, 2, 8, 7, 2, 9, 7, 7, 0, 2, 6, 4, 4, 0, 5, 3, 3, 6, 8, 3, 7, 0, 9, 0, 4, 2, 8, 1, 8, 1, 3, 2, 8, 6, 2, 1, 9, 8, 8, 3, 1, 9, 4, 1, 7, 1, 6, 1, 1, 4, 0, 2, 1, 2, 9, 3, 2, 3, 2, 9, 1, 9, 2, 1, 8, 1, 9, 0, 8, 4, 1, 6, 2, 9, 2, 1, 2, 3, 2, 1, 8, 7, 7, 9, 8, 6, 3, 0, 4, 1, 2, 3, 1, 8, 3, 0, 0, 0, 1, 6, 2, 3, 0, 9, 1, 0, 1, 8, 1, 0, 3, 9, 8, 8, 2, 5, 1, 7, 2, 5, 9, 8, 4, 1, 4, 0, 8, 8, 2, 2, 8, 9, 9, 0, 0, 0, 3, 2, 8, 0, 6, 0, 0, 0, 5, 1, 6, 6, 0, 3, 8, 2, 0, 7, 4, 0, 5, 6, 2, 4, 2, 4, 8, 2, 6, 4, 0, 2, 5, 2, 6, 7, 3, 8, 2, 6, 6, 3, 3, 0, 0, 9, 0, 1, 8, 5, 9, 8, 0, 5, 5, 8, 1, 6, 2, 1, 9, 3, 5, 1, 8, 8, 8, 8, 2, 5, 3, 6, 3, 0, 0, 1, 9, 9, 4, 1, 0, 6, 8, 4, 9, 0, 0, 7, 2, 0, 2, 8, 8, 6, 8, 2, 4, 9, 9, 1, 7, 3, 4, 8, 8, 2, 9, 6, 1, 9, 3, 9, 9, 0, 0, 6, 9, 2, 8, 7, 5, 7, 4, 0, 1, 4, 2, 6, 1, 6, 7, 1, 9, 8, 0, 1, 4, 1, 9, 9, 8, 1, 0, 6, 6, 0, 5, 6, 6, 0, 9, 6, 9, 4, 9, 2, 9, 4, 7, 3, 0, 0, 1, 2, 0, 2, 4, 9, 0, 9, 8, 4, 1, 9, 2, 9, 0, 0, 5, 6, 9, 6, 3, 3, 1, 8, 0, 4, 1, 0, 7, 9, 1, 0, 2, 0, 6, 8, 0, 8, 3, 0, 1, 3, 9, 7, 1, 3, 5, 3, 2, 4, 0, 1, 1, 7, 9, 0, 0, 8, 9, 9, 7, 9, 9, 8, 7, 7, 0, 2, 9, 1, 4, 4, 9, 9, 8, 9, 9, 9, 3, 1, 2, 1, 8, 7, 6, 6, 5, 1, 9, 0, 5, 0, 9, 2, 3, 5, 0, 9, 5, 4, 9, 0, 2, 6, 9, 9, 9, 8, 7, 1, 0, 9, 1, 9, 1, 2, 6, 2, 3, 6, 9, 9, 1, 6, 7, 9, 7, 9, 1, 3, 4, 8, 2, 3, 2, 5, 0, 1, 6, 9, 5, 2, 0, 6, 8, 1, 8, 9, 1, 6, 1, 1, 7, 0, 1, 7, 6, 3, 7, 5, 1, 9, 1, 0, 2, 4, 8, 4, 2, 1, 4, 0, 9, 2, 7, 8, 8, 9, 4, 9, 9, 1, 7, 8, 0, 4, 6, 8, 1, 8, 0, 0, 3, 9, 0, 6, 5, 6, 4, 8, 1, 7, 9, 8, 8, 7, 3, 8, 0, 6, 1, 1, 2, 1, 9, 7, 8, 0, 8, 9, 6, 1, 6, 6, 5, 9, 6, 4, 1, 1, 1, 8, 9, 7, 8, 1, 9, 6, 2, 1, 8, 2, 5, 1, 4, 6, 9, 8, 0, 9, 4, 9, 0, 0, 6, 2, 8, 4, 8, 1, 7, 5, 4, 8, 6, 9, 1, 2, 4, 1, 0, 6, 9, 9, 2, 8, 6, 1, 0, 2, 0, 8, 9, 1, 0, 1, 0, 1, 6, 1, 8, 2, 1, 1, 2, 2, 0, 6, 0, 1, 9, 6, 7, 0, 0, 3, 8, 1, 0, 0, 3, 7, 8, 6, 6, 1, 9, 2, 1, 0, 3, 8, 8, 3, 6, 1, 1, 2, 0, 1, 9, 2, 1, 6, 9, 7, 3, 1, 0, 6, 3, 7, 2, 0, 9, 5, 1, 8, 3, 9, 9, 0, 9, 2, 2, 0, 0, 9, 6, 4, 1, 5, 2, 4, 2, 7, 8, 6, 8, 9, 8, 8, 1, 2, 6, 9, 1, 6, 6, 9, 6, 4, 2, 0, 3, 1, 8, 1, 2, 0, 9, 8, 3, 6, 9, 2, 0, 5, 1, 1, 0, 0, 9, 6, 6, 4, 7, 6, 3, 0, 8, 9, 2, 8, 9, 8, 6, 8, 1, 1, 8, 0, 4, 8, 8, 9, 8, 1, 1, 6, 9, 9, 2, 2, 8, 9, 2, 9, 8, 1, 5, 1, 0, 1, 6, 7, 1, 0, 0, 6, 2, 6, 3, 3, 9, 7, 4, 2, 1, 2, 0, 9, 0, 6, 6, 2, 0, 1, 6, 9, 7, 7, 3, 5, 9, 1, 0, 4, 0, 1, 2, 2, 7, 1, 2, 0, 8, 5, 0, 9, 0, 3, 8, 6, 9, 8, 8, 3, 3, 2, 3, 0, 0, 7, 0, 2, 2, 8, 1, 9, 9, 8, 6, 1, 2, 9, 6, 6, 8, 0, 8, 9, 3, 9, 8, 1, 6, 0, 5, 7, 8, 4, 5, 6, 2, 8, 9, 0, 6, 7, 1, 3, 5, 0, 1, 1, 8, 6, 1, 0, 8, 6, 2, 0, 0, 0, 8, 2, 1, 4, 1, 6, 9, 6, 6, 8, 7, 5, 2, 9, 0, 8, 9, 3, 2, 8, 1, 3, 0, 9, 9, 6, 5, 1, 8, 4, 1, 9, 6, 3, 7, 2, 5, 0, 1, 2, 6, 1, 9, 0, 7, 1, 1, 0, 5, 7, 0, 6, 9, 8, 1, 6, 6, 9, 9, 1, 2, 0, 0, 4, 4, 0, 0, 0, 9, 1, 0, 8, 9, 8, 2, 9, 0, 9, 6, 0, 9, 1, 1, 3, 0, 9, 9, 1, 3, 9, 6, 8, 6, 4, 9, 3, 1, 8, 8, 8, 0, 5, 4, 5, 9, 1, 2, 9, 8, 4, 3, 0, 3, 0, 1, 3, 9, 1, 4, 8, 4, 1, 8, 0, 4, 8, 9, 7, 0, 6, 0, 9, 8, 8, 3, 1, 9, 5, 8, 9, 0, 0, 8, 6, 0, 0, 7, 0, 8, 7, 3, 8, 8, 3, 7, 7, 0, 0, 7, 2, 9, 9, 4, 0, 3, 6, 4, 6, 0, 7, 1, 7, 4, 9, 7, 4, 5, 1, 4, 3, 1, 7, 1, 8, 1, 2, 1, 2, 8, 0, 9, 3, 1, 8, 8, 3, 2, 0, 8, 9, 0, 3, 6, 6, 1, 7, 1, 9, 1, 7, 2, 9, 9, 8, 2, 6, 7, 3, 9, 0, 8, 1, 0, 1, 2, 9, 1, 8, 1, 2, 2, 1, 7, 0, 1, 7, 1, 9, 9, 3, 0, 7, 6, 3, 0, 7, 2, 3, 8, 8, 2, 2, 2, 6, 0, 6, 1, 7, 7, 6, 8, 8, 0, 1, 9, 7, 8, 6, 1, 6, 8, 0, 1, 0, 3, 2, 0, 9, 9, 9, 1, 5, 6, 2, 1, 3, 0, 0, 5, 8, 3, 3, 0, 8, 0, 4, 4, 0, 1, 1, 0, 3, 1, 9, 6, 5, 2, 0, 7, 0, 3, 4, 0, 8, 7, 8, 9, 9, 4, 7, 0, 7, 9, 1, 6, 2, 9, 2, 2, 2, 7, 6, 3, 6, 8, 8, 2, 9, 4, 0, 8, 4, 8, 2, 2, 7, 1, 1, 2, 1, 9, 4, 2, 3, 8, 0, 8, 7, 8, 9, 2, 0, 4, 8, 6, 9, 3, 0, 5, 9, 9, 8, 6, 8, 5, 2, 2, 9, 6, 2, 8, 9, 9, 2, 1, 1, 6, 9, 6, 0, 1, 2, 1, 0, 9, 5, 0, 1, 8, 2, 1, 7, 1, 8, 0, 2, 9, 5, 9, 3, 2, 7, 8, 8, 2, 6, 0, 1, 4, 1, 9, 8, 3, 5, 9, 9, 9, 1, 7, 7, 8, 8, 1, 1, 9, 3, 0, 8, 3, 5, 0, 6, 9, 0, 6, 9, 9, 0, 2, 0, 1, 2, 8, 4, 0, 8, 0, 6, 1, 0, 2, 1, 0, 8, 2, 5, 4, 1, 5, 0, 8, 2, 0, 0, 4, 6, 9, 0, 8, 9, 5, 2, 4, 8, 8, 8, 5, 0, 8, 9, 6, 0, 9, 1, 3, 1, 1, 9, 1, 8, 7, 9, 1, 6, 1, 3, 7, 0, 0, 0, 1, 4, 1, 7, 2, 0, 8, 4, 7, 4, 9, 0, 0, 8, 3, 2, 9, 0, 9, 6, 3, 4, 9, 8, 3, 5, 6, 6, 8, 9, 2, 1, 2, 5, 9, 9, 3, 6, 7, 8, 2, 6, 5, 1, 0, 2, 1, 0, 3, 1, 6, 8, 4, 0, 0, 9, 1, 1, 4, 6, 0, 3, 1, 6, 1, 3, 6, 3, 9, 6, 6, 3, 8, 1, 2, 3, 5, 7, 1, 8, 0, 9, 9, 3, 4, 9, 7, 5, 0, 9, 3, 4, 7, 0, 6, 6, 8, 8, 1, 1, 1, 8, 9, 1, 4, 0, 2, 9, 9, 0, 9, 5, 1, 7, 6, 1, 9, 1, 6, 6, 1, 2, 4, 6, 9, 7, 2, 3, 6, 3, 9, 9, 1, 7, 6, 9, 4, 3, 3, 9, 1, 3, 2, 1, 9, 9, 6, 0, 1, 0, 4, 0, 8, 0, 4, 8, 0, 3, 9, 0, 8, 9, 8, 8, 9, 9, 5, 2, 0, 6, 0, 3, 1, 0, 1, 0, 8, 2, 6, 6, 2, 8, 2, 1, 1, 9, 1, 0, 1, 8, 1, 5, 8, 4, 9, 0, 3, 9, 6, 9, 0, 7, 6, 0, 2, 4, 0, 9, 9, 1, 2, 3, 6, 2, 2, 3, 2, 4, 4, 0, 1, 6, 8, 1, 0, 3, 6, 0, 9, 6, 7, 9, 3, 9, 6, 9, 9, 8, 0, 9, 9, 8, 2, 6, 8, 9, 7, 3, 0, 0, 4, 1, 4, 2, 2, 0, 4, 2, 4, 9, 3, 7, 0, 2, 7, 6, 6, 8, 1, 1, 6, 1, 1, 0, 9, 0, 5, 1, 9, 7, 6, 0, 9, 0, 1, 4, 0, 6, 6, 0, 0, 6, 0, 3, 5, 8, 6, 9, 7, 9, 0, 0, 0, 9, 6, 3, 0, 3, 0, 4, 6, 0, 6, 7, 8, 8, 5, 1, 9, 2, 9, 6, 9, 1, 6, 4, 8, 8, 3, 4, 9, 4, 9, 0, 2, 1, 8, 0, 6, 8, 8, 5, 0, 9, 0, 8, 5, 8, 2, 8, 6, 6, 9, 3, 1, 6, 7, 3, 6, 2, 5, 8, 7, 0, 3, 8, 0, 6, 0, 4, 1, 1, 9, 6, 8, 6, 6, 1, 0, 1, 7, 7, 9, 8, 1, 0, 7, 3, 1, 2, 8, 1, 4, 8, 0, 0, 8, 4, 2, 8, 9, 7, 8, 1, 2, 2, 6, 8, 9, 5, 3, 8, 0, 2, 0, 0, 6, 1, 1, 6, 0, 6, 8, 9, 0, 2, 3, 1, 8, 0, 3, 6, 3, 6, 3, 3, 6, 6, 3, 2, 9, 2, 9, 4, 6, 8, 1, 4, 3, 2, 4, 4, 0, 9, 2, 1, 6, 9, 4, 8, 6, 8, 4, 7, 4, 9, 7, 5, 8, 0, 2, 9, 8, 1, 8, 8, 7, 8, 3, 2, 4, 6, 0, 1, 2, 8, 4, 7, 9, 0, 9, 1, 7, 6, 5, 3, 9, 1, 4, 9, 6, 0, 9, 5, 2, 3, 2, 4, 9, 5, 5, 6, 1, 7, 3, 9, 7, 9, 8, 8, 1, 4, 8, 0, 9, 6, 5, 8, 9, 0, 5, 3, 8, 0, 0, 4, 2, 0, 1, 1, 1, 6, 6, 1, 7, 9, 8, 0, 8, 1, 2, 8, 0, 8, 9, 9, 4, 1, 9, 6, 3, 2]\n"
     ]
    }
   ],
   "source": [
    "# check\n",
    "Y_train_hat = classify_all_images(X_train, mu, sig, -1)\n",
    "\n",
    "print(Y_train_hat) # doit rendre: [0 9 7 ... 6 3 2]"
   ]
  },
  {
   "cell_type": "markdown",
   "metadata": {},
   "source": [
    "## A5-Matrice de confusion et affichage du résultat des classifications\n",
    "\n",
    "La matrice de confusion est de la forme $C \\times C$ où $C$ est le nombre de classe. Les lignes sont les vraies classes, les colonnes sont les classes prédites. Chaque case (i,j) contient le nombre d'images correspondant à la vraie classe i et à la prédiction j.\n",
    "Si votre classifieur est performant, vous devriez observer des pics sur la diagonale. \n",
    "\n",
    "La fonction `matrice_confusion(Y, Y_hat)` prend en argument un vecteur d'étiquettes réelles et un vecteur de même taille d'étiquettes prédites et retourne la matrice de confusion.\n",
    "\n",
    "Vous devriez obtenir une matrice de la forme:\n",
    "<img src=\"mat_conf_train.png\" title=\"Matrice de confusion\">"
   ]
  },
  {
   "cell_type": "code",
   "execution_count": 14,
   "metadata": {},
   "outputs": [],
   "source": [
    "def matrice_confusion(Y, Y_hat):\n",
    "    N = Y.shape[0]\n",
    "    mat = np.zeros((10,10))\n",
    "    for i in range(N):\n",
    "        for j in range(N):\n",
    "            if Y[i]==Y_hat[j]:\n",
    "                mat[Y[i],Y_hat[j]] += 1\n",
    "    return mat"
   ]
  },
  {
   "cell_type": "code",
   "execution_count": 15,
   "metadata": {},
   "outputs": [
    {
     "name": "stdout",
     "output_type": "stream",
     "text": [
      "Taux de bonne classification: 0.8099213356879114\n"
     ]
    },
    {
     "data": {
      "text/plain": [
       "<matplotlib.image.AxesImage at 0x7f76b55dfdc0>"
      ]
     },
     "execution_count": 15,
     "metadata": {},
     "output_type": "execute_result"
    },
    {
     "data": {
      "image/png": "[encoded data removed]",
      "text/plain": [
       "<Figure size 432x288 with 1 Axes>"
      ]
     },
     "metadata": {
      "needs_background": "light"
     },
     "output_type": "display_data"
    }
   ],
   "source": [
    "# affichage de la matrice de confusion\n",
    "m = matrice_confusion(Y_train, Y_train_hat)\n",
    "\n",
    "print(\"Taux de bonne classification: {}\".format(np.where(Y_train == Y_train_hat, 1, 0).mean()))\n",
    "\n",
    "plt.figure()\n",
    "plt.imshow(m)"
   ]
  },
  {
   "cell_type": "markdown",
   "metadata": {},
   "source": [
    "## A6- Ensemble d'apprentissage, ensemble de test\n",
    "\n",
    "Dans la procédure que nous avons suivie jusqu'ici, nous avons triché. Les mêmes données servent à apprendre les paramètres et à évaluer le modèle. Evidemment, le modèle est parfaitement adapté et les performances sur-estimées.\n",
    "\n",
    "Afin de réduire ce biais, nous allons maintenant évaluer les performances sur les données de test. Les performances devraient être plus basses... Mais plus réalistes.\n",
    "\n",
    "Effectuer ces calculs et afficher le taux de bonne classification et la matrice de confusion.\n",
    "\n",
    "**Attention:** il faut donc utiliser les paramètres appris sur de nouvelles données sans réapprendre des paramètres spécifiques sinon ça ne marche pas\n",
    "\n",
    "Afin de mieux comprendre les erreurs (et de vérifier vos connaissances sur numpy): afficher une image de chiffre mal classée, son étiquette prédite et son étiquette réelle. \n",
    "Normalement, vous devez retrouver automatiquement que le premier chiffre mal classé est l'image 10:\n",
    "\n",
    "<img src=\"bad_classif.png\" title=\"exemple d'erreur\">"
   ]
  },
  {
   "cell_type": "code",
   "execution_count": 16,
   "metadata": {},
   "outputs": [
    {
     "name": "stdout",
     "output_type": "stream",
     "text": [
      "Taux de bonne classification: 0.7934180514825676\n",
      "10\n"
     ]
    },
    {
     "data": {
      "text/plain": [
       "Text(0.5, 1.0, 'classe réelle : 5; prédiction : 6')"
      ]
     },
     "execution_count": 16,
     "metadata": {},
     "output_type": "execute_result"
    },
    {
     "data": {
      "image/png": "[encoded data removed]",
      "text/plain": [
       "<Figure size 432x288 with 1 Axes>"
      ]
     },
     "metadata": {
      "needs_background": "light"
     },
     "output_type": "display_data"
    },
    {
     "data": {
      "image/png": "[encoded data removed]",
      "text/plain": [
       "<Figure size 432x288 with 1 Axes>"
      ]
     },
     "metadata": {
      "needs_background": "light"
     },
     "output_type": "display_data"
    }
   ],
   "source": [
    "Y_test_hat = classify_all_images(X_test, mu, sig, -1)\n",
    "\n",
    "m = matrice_confusion(Y_test, Y_test_hat)\n",
    "\n",
    "print(\"Taux de bonne classification: {}\".format(np.where(Y_test == Y_test_hat, 1, 0).mean()))\n",
    "\n",
    "plt.figure()\n",
    "plt.imshow(m)\n",
    "\n",
    "premierfaux = np.where(Y_test != Y_test_hat)[0][0]\n",
    "print(premierfaux)\n",
    "\n",
    "plt.figure()\n",
    "plt.imshow(X_test[premierfaux].reshape(16,16),cmap=\"gray\")\n",
    "plt.title(\"classe réelle : {}\".format(Y_test[premierfaux]) + \"; prédiction : {}\".format(Y_test_hat[premierfaux]))"
   ]
  },
  {
   "cell_type": "markdown",
   "metadata": {},
   "source": [
    "# Autres modélisations possibles pour les images\n",
    "\n",
    "## B. Modélisation par une loi de Bernoulli\n",
    "\n",
    "Soit les indices $i$ donnant les images et les indices $j$ référant aux pixels dans l'image, nous cherchons à déterminer la probabilité d'illumination d'un pixel $j$ pour une collection d'image (d'une seule classe, par exemple les $0$).\n",
    "\n",
    "Collection de $0$:\n",
    "$$ X = \\{\\mathbf{x_i}\\}_{i = 1,\\ldots, N}, \\qquad \\mathbf{x_i} \\in \\{0,1\\}^{256}$$\n",
    "\n",
    "Modélisation de la variable de Bernoulli $X_j$, valeur du pixel $j$ en écriture factorisée:\n",
    "$$ p(X_j = x_{ij}) = p_j^{x_{ij}} (1-p_j)^{(1-x_{ij})} = \\left\\{\n",
    "\\begin{array}{ccc}\n",
    "p_j & \\mbox{ si } x_{ij} = 1 \\\\\n",
    "1-p_j & \\mbox{ si } x_{ij} = 0 \\\\\n",
    "\\end{array}\n",
    "\\right.$$\n",
    "\n",
    "Expression de la vraisemblance\n",
    "\n",
    "Maximisation de la vraisemblance $\\Rightarrow$ $\\nabla_{\\theta} \\mathcal L(X, \\theta) = 0$:\n",
    "\n",
    "$$p_j^\\star = \\frac{\\sum_i x_{ij}}{N} $$\n",
    "\n",
    "Intuitif: nombre de $1$ pour le pixel $j$ divisé par le nombre d'image = pourcentage d'illumination du pixel $j$"
   ]
  },
  {
   "cell_type": "code",
   "execution_count": 17,
   "metadata": {},
   "outputs": [
    {
     "data": {
      "text/plain": [
       "<matplotlib.image.AxesImage at 0x7f76b54cb5e0>"
      ]
     },
     "execution_count": 17,
     "metadata": {},
     "output_type": "execute_result"
    },
    {
     "data": {
      "image/png": "[encoded data removed]",
      "text/plain": [
       "<Figure size 432x288 with 1 Axes>"
      ]
     },
     "metadata": {
      "needs_background": "light"
     },
     "output_type": "display_data"
    }
   ],
   "source": [
    "# binarisation des images pour coller avec l'hypothèse de Bernoulli:\n",
    "\n",
    "Xb_train = np.where(X_train>0, 1, 0)\n",
    "Xb_test  = np.where(X_test>0, 1, 0)\n",
    "\n",
    "# affichage d'une image binaire:\n",
    "plt.figure()\n",
    "plt.imshow(Xb_train[0].reshape(16,16))"
   ]
  },
  {
   "cell_type": "markdown",
   "metadata": {},
   "source": [
    "### B-1: Ecrire la fonction d'apprentissage des paramètres qui retourne la matrice theta suivante:\n",
    "\n",
    "$$ \\theta^\\star = \n",
    " \\left[\n",
    " \\begin{array}{ccc}\n",
    "     [p_0^\\star, \\ldots, p_{255}^\\star] & \\mbox{Paramètres optimaux de la classe 0 au sens du max de vraisembalnce} \\\\\n",
    "     [p_0^\\star, \\ldots, p_{255}^\\star] & \\mbox{Paramètres optimaux de la classe 1 au sens du max de vraisembalnce} \\\\\n",
    "\\vdots & \\\\\n",
    "     [p_0^\\star, \\ldots, p_{255}^\\star] & \\mbox{Paramètres optimaux de la classe 9 au sens du max de vraisembalnce} \\\\\n",
    "\\end{array}\n",
    " \\right]\n",
    " $$\n",
    " \n",
    " Il faut ensuite calculer les :\n",
    " $$ \\log p (\\mathbf{x_i} | \\theta^{(c)}) = \\sum_j \\log p(X_j = x_{ij})  = \\sum_j {x_{ij}} \\log p_j + {(1-x_{ij})}\\log(1-p_j)$$\n",
    " \n",
    " Faire passer les $N$ images dans les $C$ modèles donne un tableau de la forme :\n",
    " $$ \\log p (X | \\theta) =  \\left[\n",
    " \\begin{array}{cccc}\n",
    " \\log p (\\mathbf{x_0} | \\theta^{(0)}) &  \\log p (\\mathbf{x_0} | \\theta^{(1)}) & \\ldots &  \\log p (\\mathbf{x_0} | \\theta^{(9)}) \\\\\n",
    " & \\vdots & \\\\\n",
    " \\log p (\\mathbf{x_N} | \\theta^{(0)}) &  \\log p (\\mathbf{x_N} | \\theta^{(1)}) & \\ldots &  \\log p (\\mathbf{x_N} | \\theta^{(9)}) \\\\\n",
    "  \\end{array}\n",
    " \\right]\n",
    " $$\n",
    " \n",
    " Chaque ligne donne pour une image sa probabilité d'appartenance à chaque classe $c$.\n",
    " Un argmax par ligne donne une estimation de la classe."
   ]
  },
  {
   "cell_type": "code",
   "execution_count": 18,
   "metadata": {},
   "outputs": [],
   "source": [
    "def learnBernoulli ( X,Y ):\n",
    "    petoile = np.zeros((10,256))\n",
    "    for i in range(10):\n",
    "        indices = np.where(Y==i)\n",
    "        N = indices[0].size\n",
    "        for j in range(256):\n",
    "            for k in indices[0]:\n",
    "                petoile[i,j] += X[k,j]/N\n",
    "    \n",
    "    return petoile"
   ]
  },
  {
   "cell_type": "code",
   "execution_count": 19,
   "metadata": {},
   "outputs": [
    {
     "name": "stdout",
     "output_type": "stream",
     "text": [
      "(10, 256)\n",
      "[[0.00093897 0.00657277 0.03192488 ... 0.02347418 0.00375587 0.        ]\n",
      " [0.         0.         0.         ... 0.00233372 0.         0.        ]\n",
      " [0.01941748 0.05987055 0.13430421 ... 0.27993528 0.20711974 0.11326861]\n",
      " ...\n",
      " [0.06666667 0.16078431 0.2745098  ... 0.         0.         0.        ]\n",
      " [0.01033058 0.05371901 0.1322314  ... 0.01446281 0.00206612 0.        ]\n",
      " [0.0037037  0.0037037  0.01111111 ... 0.00555556 0.00185185 0.        ]]\n"
     ]
    }
   ],
   "source": [
    "theta = learnBernoulli ( Xb_train,Y_train )\n",
    "print(theta.shape)\n",
    "print(theta)"
   ]
  },
  {
   "cell_type": "markdown",
   "metadata": {},
   "source": [
    "Check du résultat précédent:\n",
    "```\n",
    "(10, 256)\n",
    "[[0.00093897 0.00657277 0.03192488 ... 0.02347418 0.00375587 0.        ]\n",
    " [0.         0.         0.         ... 0.00233372 0.         0.        ]\n",
    " [0.01941748 0.05987055 0.13430421 ... 0.27993528 0.20711974 0.11326861]\n",
    " ...\n",
    " [0.06666667 0.16078431 0.2745098  ... 0.         0.         0.        ]\n",
    " [0.01033058 0.05371901 0.1322314  ... 0.01446281 0.00206612 0.        ]\n",
    " [0.0037037  0.0037037  0.01111111 ... 0.00555556 0.00185185 0.        ]]\n",
    "```"
   ]
  },
  {
   "cell_type": "markdown",
   "metadata": {},
   "source": [
    "### B-2: Ecrire ensuite une fonction de calcul de la vraisemblance d'une image par rapport à ces paramètres\n",
    "\n",
    "**Attention** $log(0)$ n'est pas défini et $log(1-x)$ avec $x=1$ non plus ! \n",
    "La solution à ce problème est assez simple, il suffit de seuiller les probabilités d'illumination entre $\\epsilon $ et $1-\\epsilon$."
   ]
  },
  {
   "cell_type": "code",
   "execution_count": 20,
   "metadata": {},
   "outputs": [],
   "source": [
    "def logpobsBernoulli(X, theta):\n",
    "    logpXtheta = np.zeros(10)\n",
    "    for j in range(theta.shape[0]):\n",
    "        for k in range(theta.shape[1]):\n",
    "            if theta[j,k]<1e-4 or 1-theta[j,k]<1e-4:\n",
    "                logpXtheta[j] += X[k]*math.log(1e-4)+(1-X[k])*math.log(1-1e-4)\n",
    "            else:\n",
    "                logpXtheta[j] += X[k]*math.log(theta[j,k])+(1-X[k])*math.log(1-theta[j,k])\n",
    "            \n",
    "    \n",
    "    return logpXtheta"
   ]
  },
  {
   "cell_type": "code",
   "execution_count": 21,
   "metadata": {},
   "outputs": [
    {
     "data": {
      "text/plain": [
       "array([ -84.92517398, -761.07844727, -171.38766957, -175.31753619,\n",
       "       -216.95715849, -161.36508121, -208.21533436, -360.17024632,\n",
       "       -172.16285293, -287.87685778])"
      ]
     },
     "execution_count": 21,
     "metadata": {},
     "output_type": "execute_result"
    }
   ],
   "source": [
    "logpobsBernoulli(Xb_train[0], theta)\n",
    "# check avec un epsilon = 1e-4 : \n"
   ]
  },
  {
   "cell_type": "markdown",
   "metadata": {},
   "source": [
    "### B-3: Evaluer ensuite vos performances avec les mêmes méthodes que précédemment"
   ]
  },
  {
   "cell_type": "code",
   "execution_count": 22,
   "metadata": {},
   "outputs": [
    {
     "name": "stdout",
     "output_type": "stream",
     "text": [
      "Taux de bonne classification: 0.8543499511241447\n"
     ]
    },
    {
     "data": {
      "text/plain": [
       "<matplotlib.image.AxesImage at 0x7f76b53e4b80>"
      ]
     },
     "execution_count": 22,
     "metadata": {},
     "output_type": "execute_result"
    },
    {
     "data": {
      "image/png": "[encoded data removed]",
      "text/plain": [
       "<Figure size 432x288 with 1 Axes>"
      ]
     },
     "metadata": {
      "needs_background": "light"
     },
     "output_type": "display_data"
    }
   ],
   "source": [
    "Y_test_hat = [np.argmax(logpobsBernoulli(Xb_test[i], theta)) for i in range (len(Xb_test))]\n",
    "\n",
    "m = matrice_confusion(Y_test, Y_test_hat)\n",
    "\n",
    "print(\"Taux de bonne classification: {}\".format(np.where(Y_test == Y_test_hat, 1, 0).mean()))\n",
    "\n",
    "plt.figure()\n",
    "plt.imshow(m)"
   ]
  },
  {
   "cell_type": "markdown",
   "metadata": {},
   "source": [
    "# C. Modélisation des profils de chiffre\n",
    "\n",
    "Comme expliquer dans le TD 2, il est possible de jouer avec les profils des images: chaque image est alors séparée en 16 lignes et pour chaque ligne, nous modélisons l'apparition du premier pixel allumé avec une loi géométrique.\n",
    "Pour plus de simplicité, nous vous donnons ci-dessous la fonction de transformation de la base d'image et son application."
   ]
  },
  {
   "cell_type": "code",
   "execution_count": 23,
   "metadata": {},
   "outputs": [],
   "source": [
    "################################################################################\n",
    "# modelisation geometrique\n",
    "def transfoProfil(X):\n",
    "    x2 = []\n",
    "    for x in X:\n",
    "        ind = np.where(np.hstack((x.reshape(16, 16), np.ones((16,1))))>0.3)\n",
    "        x2.append( [ind[1][np.where(ind[0] == i)][0] for i in range(16)])\n",
    "    return np.array(x2)\n",
    "\n",
    "Xg_train = transfoProfil(Xb_train)\n",
    "Xg_test  = transfoProfil(Xb_test)"
   ]
  },
  {
   "cell_type": "code",
   "execution_count": 24,
   "metadata": {},
   "outputs": [
    {
     "name": "stdout",
     "output_type": "stream",
     "text": [
      "[3 2 2 2 2 2 2 1 1 1 2 1 2 2 3 4]\n"
     ]
    }
   ],
   "source": [
    "print(Xg_train[0]) # [3 2 2 2 2 2 2 1 1 1 2 1 2 2 3 4]\n",
    "# une image est maintenant représentée par 16 entiers"
   ]
  },
  {
   "cell_type": "markdown",
   "metadata": {},
   "source": [
    "### C-123: Ecrire les fonctions d'apprentissage des paramètres et de calcul de la vraisemblance avec cette modélisation"
   ]
  },
  {
   "cell_type": "code",
   "execution_count": 25,
   "metadata": {},
   "outputs": [
    {
     "name": "stdout",
     "output_type": "stream",
     "text": [
      "[ -8.59383056 -30.91829135 -21.49092763 -29.19427401 -25.74819885\n",
      " -24.9698666  -20.39913243 -32.67620668 -24.64316047 -28.58230496]\n",
      "Taux de bonne classification: 0.6448354512870642\n"
     ]
    },
    {
     "data": {
      "text/plain": [
       "<matplotlib.image.AxesImage at 0x7f76b5388f10>"
      ]
     },
     "execution_count": 25,
     "metadata": {},
     "output_type": "execute_result"
    },
    {
     "data": {
      "image/png": "[encoded data removed]",
      "text/plain": [
       "<Figure size 432x288 with 1 Axes>"
      ]
     },
     "metadata": {
      "needs_background": "light"
     },
     "output_type": "display_data"
    },
    {
     "data": {
      "image/png": "[encoded data removed]",
      "text/plain": [
       "<Figure size 432x288 with 1 Axes>"
      ]
     },
     "metadata": {
      "needs_background": "light"
     },
     "output_type": "display_data"
    }
   ],
   "source": [
    "def learnGeom ( X,Y):\n",
    "    petoile = np.zeros((10,16))\n",
    "    for i in range(10):\n",
    "        indices = np.where(Y==i)\n",
    "        N = indices[0].size\n",
    "        for j in range(16):\n",
    "            for k in indices[0]:\n",
    "                petoile[i,j] += X[k,j]\n",
    "            petoile[i,j] = N/petoile[i,j]\n",
    "    \n",
    "    return petoile\n",
    "    \n",
    "def logpobsGeom(X, theta):\n",
    "    logpXtheta = np.zeros(10)\n",
    "    for j in range(theta.shape[0]):\n",
    "        for k in range(theta.shape[1]):\n",
    "            if theta[j,k]<1e-4 or 1-theta[j,k]<1e-4:\n",
    "                logpXtheta[j] += math.log(1e-4)+(X[k]-1)*math.log(1-1e-4)\n",
    "            else:\n",
    "                logpXtheta[j] += math.log(theta[j,k])+(X[k]-1)*math.log(1-theta[j,k])\n",
    "            \n",
    "    \n",
    "    return logpXtheta\n",
    "    \n",
    "theta = learnGeom(Xg_train, Y_train)\n",
    "\n",
    "print(logpobsGeom(Xg_test[1], theta))\n",
    "\n",
    "Y_train_hat = [np.argmax(logpobsGeom(Xg_train[i], theta)) for i in range (len(Xg_train))]\n",
    "Y_test_hat  = [np.argmax(logpobsGeom(Xg_test[i], theta)) for i in range (len(Xg_test))]\n",
    "\n",
    "ma = matrice_confusion(Y_train, Y_train_hat)\n",
    "mt = matrice_confusion(Y_test, Y_test_hat)\n",
    "\n",
    "print(\"Taux de bonne classification: {}\".format(np.where(Y_test == Y_test_hat, 1, 0).mean()))\n",
    "\n",
    "plt.figure()\n",
    "plt.imshow(ma)\n",
    "plt.figure()\n",
    "plt.imshow(mt)"
   ]
  },
  {
   "cell_type": "markdown",
   "metadata": {},
   "source": [
    "# D. Maximum a posteriori\n",
    "\n",
    "Etant donné les distributions non uniformes de classes observées sur le jeu de donnée:\n",
    "\n",
    "<img src=\"distr_classes.png\" title=\"Distribution des classes\">\n",
    "\n",
    "Calculer les maxima a posteriori avec les différentes modélisations et vérifier s'il y a un gain en performance avec cette modélisation."
   ]
  },
  {
   "cell_type": "code",
   "execution_count": 30,
   "metadata": {},
   "outputs": [
    {
     "name": "stdout",
     "output_type": "stream",
     "text": [
      "[0.17097447 0.13758228 0.09921336 0.09054423 0.08765452 0.0757746\n",
      " 0.09198908 0.0818751  0.07770108 0.08669128]\n",
      "1.0\n"
     ]
    }
   ],
   "source": [
    "# récupération des probabilités a priori sur les données d'apprentissage:\n",
    "p= np.histogram(Y_train, np.linspace(-0.5,9.5,11))\n",
    "p = p[0] / p[0].sum()\n",
    "print(p)\n",
    "\n",
    "Y_test_hat_norm = classify_all_images(X_test, mu, sig, -1)\n",
    "p_norm = np.zeros(10)\n",
    "N = Y_test_hat_norm.shape[0]\n",
    "for i in range(10):\n",
    "    for yi in Y_test_hat_norm:\n",
    "        if yi==i:\n",
    "            p_norm[i] += 1\n",
    "    p_norm[i] /= N\n",
    "\n",
    "theta_bern = learnBernoulli ( Xb_train,Y_train )\n",
    "Y_test_hat_bern = [np.argmax(logpobsBernoulli(Xb_test[i], theta_bern)) for i in range (len(Xb_test))]\n",
    "p_bern = np.zeros(10)\n",
    "N = Y_test_hat_bern.shape[0]\n",
    "for i in range(10):\n",
    "    for yi in Y_test_hat_bern:\n",
    "        if yi==i:\n",
    "            p_bern[i] += 1\n",
    "    p_bern[i] /= N\n",
    "\n",
    "theta_geom = learnGeom(Xg_train, Y_train)\n",
    "Y_test_hat_geom  = [np.argmax(logpobsGeom(Xg_test[i], theta_geom)) for i in range (len(Xg_test))]\n",
    "p_geom = np.zeros(10)\n",
    "N = Y_test_hat_geom.shape[0]\n",
    "for i in range(10):\n",
    "    for yi in Y_test_hat_geom:\n",
    "        if yi==i:\n",
    "            p_geom[i] += 1\n",
    "    p_geom[i] /= N\n",
    "\n",
    "\n",
    "for i in range(10):\n",
    "    map_i = logpobsBernoulli(Xb_test[Y_test==i], theta_bern)"
   ]
  },
  {
   "cell_type": "markdown",
   "metadata": {},
   "source": [
    "# E. Fusion de modèle\n",
    "\n",
    "Réussirez-vous à fusionner les sorties des modèles précédents pour améliorer la performance globale en test?\n",
    "* En faisant voter les classifieurs\n",
    "* En pondérant ces votes par leurs performances en apprentissage\n",
    "* En fusionnant les vraisemblances"
   ]
  },
  {
   "cell_type": "code",
   "execution_count": null,
   "metadata": {},
   "outputs": [],
   "source": []
  },
  {
   "cell_type": "markdown",
   "metadata": {},
   "source": [
    "# F. Proposer une modélisation en 16 niveaux de gris basées sur une loi multinomiale"
   ]
  },
  {
   "cell_type": "markdown",
   "metadata": {},
   "source": []
  }
 ],
 "metadata": {
  "kernelspec": {
   "display_name": "Python 3",
   "language": "python",
   "name": "python3"
  },
  "language_info": {
   "codemirror_mode": {
    "name": "ipython",
    "version": 3
   },
   "file_extension": ".py",
   "mimetype": "text/x-python",
   "name": "python",
   "nbconvert_exporter": "python",
   "pygments_lexer": "ipython3",
   "version": "3.9.13"
  }
 },
 "nbformat": 4,
 "nbformat_minor": 4
}
